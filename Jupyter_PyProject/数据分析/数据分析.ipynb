{
 "cells": [
  {
   "cell_type": "code",
   "execution_count": 1,
   "id": "432b44da-a66a-4ede-8247-581e51246dcd",
   "metadata": {},
   "outputs": [],
   "source": [
    "import numpy as np\n",
    "stock_change=np.random.normal(0,1,(10,5))"
   ]
  },
  {
   "cell_type": "code",
   "execution_count": 2,
   "id": "a6b0b264-0275-472b-88a0-9324cf80c6ca",
   "metadata": {},
   "outputs": [
    {
     "data": {
      "text/plain": [
       "array([[ 2.27656871,  0.2305883 ,  0.62048709,  0.07716603, -0.1135496 ],\n",
       "       [ 3.24554275,  1.23398971,  0.06265424,  2.11735385, -0.13337508],\n",
       "       [-0.14939615,  0.21908217,  1.48408412, -1.19888074, -0.10358446],\n",
       "       [ 0.84822629, -0.17614708,  0.42957782,  0.23085994, -0.21822864],\n",
       "       [-1.0162154 ,  0.09191704, -0.20328416, -2.72915201, -0.04852972],\n",
       "       [ 1.40849125, -0.75421278,  0.47407646, -0.97140856, -0.11022563],\n",
       "       [ 0.43283902, -1.0153377 , -0.41681865, -0.43119896,  0.59088678],\n",
       "       [ 0.44652768,  0.87641913,  0.98020045,  0.4257917 ,  1.4204086 ],\n",
       "       [-1.3972809 ,  1.98734681, -1.73838587,  0.0291586 ,  0.51224855],\n",
       "       [-1.21125826,  0.13447935,  0.51860812,  0.40939677, -0.65974028]])"
      ]
     },
     "execution_count": 2,
     "metadata": {},
     "output_type": "execute_result"
    }
   ],
   "source": [
    "stock_change"
   ]
  },
  {
   "cell_type": "code",
   "execution_count": 3,
   "id": "cb6895f5-bfff-406c-819b-5e17d453b425",
   "metadata": {},
   "outputs": [],
   "source": [
    "import pandas as pd"
   ]
  },
  {
   "cell_type": "code",
   "execution_count": 6,
   "id": "308ab4ad-f584-445b-9c0f-226763b98e90",
   "metadata": {},
   "outputs": [
    {
     "data": {
      "text/html": [
       "<div>\n",
       "<style scoped>\n",
       "    .dataframe tbody tr th:only-of-type {\n",
       "        vertical-align: middle;\n",
       "    }\n",
       "\n",
       "    .dataframe tbody tr th {\n",
       "        vertical-align: top;\n",
       "    }\n",
       "\n",
       "    .dataframe thead th {\n",
       "        text-align: right;\n",
       "    }\n",
       "</style>\n",
       "<table border=\"1\" class=\"dataframe\">\n",
       "  <thead>\n",
       "    <tr style=\"text-align: right;\">\n",
       "      <th></th>\n",
       "      <th>0</th>\n",
       "      <th>1</th>\n",
       "      <th>2</th>\n",
       "      <th>3</th>\n",
       "      <th>4</th>\n",
       "    </tr>\n",
       "  </thead>\n",
       "  <tbody>\n",
       "    <tr>\n",
       "      <th>股票0</th>\n",
       "      <td>2.276569</td>\n",
       "      <td>0.230588</td>\n",
       "      <td>0.620487</td>\n",
       "      <td>0.077166</td>\n",
       "      <td>-0.113550</td>\n",
       "    </tr>\n",
       "    <tr>\n",
       "      <th>股票1</th>\n",
       "      <td>3.245543</td>\n",
       "      <td>1.233990</td>\n",
       "      <td>0.062654</td>\n",
       "      <td>2.117354</td>\n",
       "      <td>-0.133375</td>\n",
       "    </tr>\n",
       "    <tr>\n",
       "      <th>股票2</th>\n",
       "      <td>-0.149396</td>\n",
       "      <td>0.219082</td>\n",
       "      <td>1.484084</td>\n",
       "      <td>-1.198881</td>\n",
       "      <td>-0.103584</td>\n",
       "    </tr>\n",
       "    <tr>\n",
       "      <th>股票3</th>\n",
       "      <td>0.848226</td>\n",
       "      <td>-0.176147</td>\n",
       "      <td>0.429578</td>\n",
       "      <td>0.230860</td>\n",
       "      <td>-0.218229</td>\n",
       "    </tr>\n",
       "    <tr>\n",
       "      <th>股票4</th>\n",
       "      <td>-1.016215</td>\n",
       "      <td>0.091917</td>\n",
       "      <td>-0.203284</td>\n",
       "      <td>-2.729152</td>\n",
       "      <td>-0.048530</td>\n",
       "    </tr>\n",
       "    <tr>\n",
       "      <th>股票5</th>\n",
       "      <td>1.408491</td>\n",
       "      <td>-0.754213</td>\n",
       "      <td>0.474076</td>\n",
       "      <td>-0.971409</td>\n",
       "      <td>-0.110226</td>\n",
       "    </tr>\n",
       "    <tr>\n",
       "      <th>股票6</th>\n",
       "      <td>0.432839</td>\n",
       "      <td>-1.015338</td>\n",
       "      <td>-0.416819</td>\n",
       "      <td>-0.431199</td>\n",
       "      <td>0.590887</td>\n",
       "    </tr>\n",
       "    <tr>\n",
       "      <th>股票7</th>\n",
       "      <td>0.446528</td>\n",
       "      <td>0.876419</td>\n",
       "      <td>0.980200</td>\n",
       "      <td>0.425792</td>\n",
       "      <td>1.420409</td>\n",
       "    </tr>\n",
       "    <tr>\n",
       "      <th>股票8</th>\n",
       "      <td>-1.397281</td>\n",
       "      <td>1.987347</td>\n",
       "      <td>-1.738386</td>\n",
       "      <td>0.029159</td>\n",
       "      <td>0.512249</td>\n",
       "    </tr>\n",
       "    <tr>\n",
       "      <th>股票9</th>\n",
       "      <td>-1.211258</td>\n",
       "      <td>0.134479</td>\n",
       "      <td>0.518608</td>\n",
       "      <td>0.409397</td>\n",
       "      <td>-0.659740</td>\n",
       "    </tr>\n",
       "  </tbody>\n",
       "</table>\n",
       "</div>"
      ],
      "text/plain": [
       "            0         1         2         3         4\n",
       "股票0  2.276569  0.230588  0.620487  0.077166 -0.113550\n",
       "股票1  3.245543  1.233990  0.062654  2.117354 -0.133375\n",
       "股票2 -0.149396  0.219082  1.484084 -1.198881 -0.103584\n",
       "股票3  0.848226 -0.176147  0.429578  0.230860 -0.218229\n",
       "股票4 -1.016215  0.091917 -0.203284 -2.729152 -0.048530\n",
       "股票5  1.408491 -0.754213  0.474076 -0.971409 -0.110226\n",
       "股票6  0.432839 -1.015338 -0.416819 -0.431199  0.590887\n",
       "股票7  0.446528  0.876419  0.980200  0.425792  1.420409\n",
       "股票8 -1.397281  1.987347 -1.738386  0.029159  0.512249\n",
       "股票9 -1.211258  0.134479  0.518608  0.409397 -0.659740"
      ]
     },
     "execution_count": 6,
     "metadata": {},
     "output_type": "execute_result"
    }
   ],
   "source": [
    "pd.DataFrame(data=stock_change,index=stock)"
   ]
  },
  {
   "cell_type": "code",
   "execution_count": 5,
   "id": "9b9e885d-9a8a-49a0-9bba-7894483e6e80",
   "metadata": {},
   "outputs": [],
   "source": [
    "stock=['股票{}'.format(i) for i in range(10)]"
   ]
  },
  {
   "cell_type": "markdown",
   "id": "fbafb1c7-8aa5-4be7-bbb3-b9d1578f4ff7",
   "metadata": {},
   "source": [
    "在pandas中，data表示数据，index表示列索引，columns表示行索引"
   ]
  },
  {
   "cell_type": "code",
   "execution_count": 6,
   "id": "b266e9b2-091f-4c66-b975-1de923e8d7d0",
   "metadata": {},
   "outputs": [],
   "source": [
    "pd.date_range(start='20201001',end='20200106')\n"
   ]
  }
 ],
 "metadata": {
  "kernelspec": {
   "display_name": "Python 3 (ipykernel)",
   "language": "python",
   "name": "python3"
  },
  "language_info": {
   "codemirror_mode": {
    "name": "ipython",
    "version": 3
   },
   "file_extension": ".py",
   "mimetype": "text/x-python",
   "name": "python",
   "nbconvert_exporter": "python",
   "pygments_lexer": "ipython3",
   "version": "3.12.3"
  }
 },
 "nbformat": 4,
 "nbformat_minor": 5
}
